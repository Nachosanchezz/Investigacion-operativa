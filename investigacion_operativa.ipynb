{
 "cells": [
  {
   "cell_type": "markdown",
   "metadata": {},
   "source": [
    "# Proyecto final"
   ]
  },
  {
   "cell_type": "markdown",
   "metadata": {},
   "source": [
    "En una fábrica se producen 6 tipos de productos electrónicos: ratones inalámbricos, teclados, altavoces, cargadores de móvil, cámaras web y auriculares. Cada producto tiene un coste de producción y un precio de venta. A su vez, cada uno de los productos genera un beneficio diferente. Al mes, como máximo, se pueden producir 1000 unidades totales juntando todos los productos. Se pueden producir 150 unidades de ratones, teclados y auriculares. Entre cargadores de móvil y altavoces se pueden producir 200 unidades. Por último, se pueden producir 100 unidades de cámaras web. Es algo obligatorio, que se produzcan al menos 50 unidades de ratones inalámbricos y menos de 200 teclados. Se sabe que el precio de venta de los ratones inalámbricos es de 10 euros, los teclados de 20 euros, los altavoces de 15 euros, los cargadores de móvil de 5 euros, las cámaras web de 30 euros y los auriculares de 25 euros. El objetivo es maximizar el beneficio de la fábrica teniendo en cuenta todo lo mencionado."
   ]
  },
  {
   "cell_type": "markdown",
   "metadata": {},
   "source": [
    "Maximizar:\n",
    "$$\n",
    "Z = 10X_1 + 20X_2 + 15X_3 + 5X_4 + 30X_5 + 25X_6\n",
    "$$\n",
    "\n",
    "Sujeto a:\n",
    "$$\n",
    "\\begin{align*}\n",
    "X_1 + X_2 + X_3 + X_4 + X_5 + X_6 &\\leq 1000 \\\\\n",
    "X_1 + X_2 + X_6 &\\leq 150 \\\\\n",
    "X_3 + X_4 &\\leq 200 \\\\\n",
    "X_5 &\\leq 100 \\\\\n",
    "X_1 &\\geq 50 \\\\\n",
    "X_2 &\\leq 200 \\\\\n",
    "X_1, X_2, X_3, X_4, X_5, X_6 &\\geq 0\n",
    "\\end{align*}\n",
    "$$"
   ]
  },
  {
   "cell_type": "markdown",
   "metadata": {},
   "source": [
    "## Resolver con Pyomo el problema"
   ]
  },
  {
   "cell_type": "code",
   "execution_count": null,
   "metadata": {
    "vscode": {
     "languageId": "plaintext"
    }
   },
   "outputs": [],
   "source": []
  }
 ],
 "metadata": {
  "language_info": {
   "name": "python"
  }
 },
 "nbformat": 4,
 "nbformat_minor": 2
}
