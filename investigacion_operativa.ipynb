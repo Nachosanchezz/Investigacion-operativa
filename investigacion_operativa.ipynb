{
 "cells": [
  {
   "cell_type": "markdown",
   "metadata": {},
   "source": [
    "# Proyecto final"
   ]
  },
  {
   "cell_type": "markdown",
   "metadata": {},
   "source": [
    "En una fábrica se producen 6 tipos de productos electrónicos: ratones inalámbricos, teclados, altavoces, cargadores de móvil, cámaras web y auriculares. Cada producto tiene un coste de producción y un precio de venta. A su vez, cada uno de los productos genera un beneficio diferente. Al mes, como máximo, se pueden producir 1000 unidades totales juntando todos los productos. Se pueden producir 250 unidades de ratones, teclados y auriculares. Entre cargadores de móvil y altavoces se pueden producir 300 unidades. Por último, se pueden producir 100 unidades de cámaras web. Es obligatorio, que se produzcan al menos 50 unidades de ratones inalámbricos y menos de 200 teclados. Se sabe que el precio de venta de los ratones inalámbricos es de 20 euros, los teclados de 35 euros, los altavoces de 25 euros, los cargadores de móvil de 15 euros, las cámaras web de 50 euros y los auriculares de 30 euros. El objetivo es maximizar el beneficio de la fábrica teniendo en cuenta todo lo mencionado."
   ]
  },
  {
   "cell_type": "markdown",
   "metadata": {},
   "source": [
    "Maximizar:\n",
    "$$\n",
    "Z = 20X_1 + 35X_2 + 25X_3 + 15X_4 + 50X_5 + 25X_6\n",
    "$$\n",
    "\n",
    "Sujeto a:\n",
    "$$\n",
    "\\begin{align*}\n",
    "X_1 + X_2 + X_3 + X_4 + X_5 + X_6 &\\leq 1000 \\\\\n",
    "X_1 + X_2 + X_6 &\\leq 250 \\\\\n",
    "X_3 + X_4 &\\leq 300 \\\\\n",
    "X_5 &\\leq 100 \\\\\n",
    "X_1 &\\geq 50 \\\\\n",
    "X_2 &\\leq 200 \\\\\n",
    "X_1, X_2, X_3, X_4, X_5, X_6 &\\geq 0\n",
    "\\end{align*}\n",
    "$$"
   ]
  },
  {
   "cell_type": "markdown",
   "metadata": {},
   "source": [
    "## Resolver con Pyomo el problema"
   ]
  },
  {
   "cell_type": "code",
   "execution_count": 6,
   "metadata": {},
   "outputs": [
    {
     "name": "stdout",
     "output_type": "stream",
     "text": [
      "\n",
      "Resultados: \n",
      "Ratones inalámbricos: 50.0\n",
      "Teclados: 200.0\n",
      "Altavoces: 300.0\n",
      "Cargadores de móvil: 0.0\n",
      "Cámaras web: 100.0\n",
      "Auriculares: 0.0\n",
      "Beneficio máximo: 20500.0\n",
      "\n",
      "\n"
     ]
    }
   ],
   "source": [
    "from pyomo.environ import *\n",
    "\n",
    "# Creamos el modelo\n",
    "\n",
    "model = ConcreteModel()\n",
    "\n",
    "# Definimos las variables\n",
    "\n",
    "model.x1 = Var(within=NonNegativeReals)    # x1 >= 0    (Ratones inalámbricos)\n",
    "model.x2 = Var(within=NonNegativeReals)    # x2 >= 0    (Teclados)\n",
    "model.x3 = Var(within=NonNegativeReals)    # x3 >= 0    (Altavoces)\n",
    "model.x4 = Var(within=NonNegativeReals)    # x4 >= 0    (Cargadores de móvil)\n",
    "model.x5 = Var(within=NonNegativeReals)    # x5 >= 0    (Cámaras web)\n",
    "model.x6 = Var(within=NonNegativeReals)    # x6 >= 0    (Auriculares)\n",
    "\n",
    "# Definimos la función objetivo\n",
    "\n",
    "model.obj = Objective(expr = 20*model.x1 + 35*model.x2 + 25*model.x3 + 15*model.x4 + 50*model.x5 + 30*model.x6, sense=maximize)\n",
    "\n",
    "# Definimos las restricciones\n",
    "\n",
    "model.con1 = Constraint(expr = model.x1 + model.x2 + model.x3 + model.x4 + model.x5 + model.x6 <= 1000)\n",
    "model.con2 = Constraint(expr = model.x1 + model.x2 + model.x6 <= 250)\n",
    "model.con3 = Constraint(expr = model.x3 + model.x4 <= 300)\n",
    "model.con4 = Constraint(expr = model.x5 <= 100)\n",
    "model.con5 = Constraint(expr = model.x1 >= 50)\n",
    "model.con6 = Constraint(expr = model.x2 <= 200)\n",
    "\n",
    "# Resolvemos el problema\n",
    "\n",
    "solver = SolverFactory('glpk')\n",
    "solver.solve(model)\n",
    "\n",
    "# Imprimimos los resultados\n",
    "\n",
    "print(\"\\nResultados: \")\n",
    "print(f\"Ratones inalámbricos: {model.x1()}\")\n",
    "print(f\"Teclados: {model.x2()}\")\n",
    "print(f\"Altavoces: {model.x3()}\")\n",
    "print(f\"Cargadores de móvil: {model.x4()}\")\n",
    "print(f\"Cámaras web: {model.x5()}\")\n",
    "print(f\"Auriculares: {model.x6()}\")\n",
    "print(f\"Beneficio máximo: {model.obj()} €\")\n",
    "print(\"\\n\")\n",
    "\n",
    "\n"
   ]
  },
  {
   "cell_type": "markdown",
   "metadata": {},
   "source": [
    "Como podemos observar en los resultados obtenidos, la solución a nuestro problema sería fabricar 50 ratones inalámbricos, 200 teclados, 300 altavoces, 100 cámaras web y ningún cargador de móvil ni auricular. Con esta solución, el beneficio máximo que se obtendría sería de 20.500 euros."
   ]
  },
  {
   "cell_type": "markdown",
   "metadata": {},
   "source": [
    "A continuación, realizaremos una análisis de sensibilidad. Con esto haremos algún cambio en nuestras restricciones y/o en nuestra función objetivo para que los valores nulos de los cargadores de móvil y auriculares cambien.\n"
   ]
  },
  {
   "cell_type": "markdown",
   "metadata": {},
   "source": [
    "## Análisis de sensibilidad con Pyomo"
   ]
  },
  {
   "cell_type": "code",
   "execution_count": 33,
   "metadata": {},
   "outputs": [
    {
     "name": "stdout",
     "output_type": "stream",
     "text": [
      "\n",
      "Resultados: \n",
      "Ratones inalámbricos: 50.0\n",
      "Teclados: 200.0\n",
      "Altavoces: 350.0\n",
      "Cargadores de móvil: 0.0\n",
      "Cámaras web: 100.0\n",
      "Auriculares: 50.0\n",
      "Beneficio máximo: 23500.0 €\n",
      "\n",
      "\n"
     ]
    }
   ],
   "source": [
    "### Copio y pego todo el código anterior y cambio algún valor de la función objetivo y las restricciones.\n",
    "\n",
    "from pyomo.environ import *\n",
    "\n",
    "# Creamos el modelo\n",
    "\n",
    "model = ConcreteModel()\n",
    "\n",
    "# Definimos las variables\n",
    "\n",
    "model.x1 = Var(within=NonNegativeReals)    # x1 >= 0    (Ratones inalámbricos)\n",
    "model.x2 = Var(within=NonNegativeReals)    # x2 >= 0    (Teclados)\n",
    "model.x3 = Var(within=NonNegativeReals)    # x3 >= 0    (Altavoces)\n",
    "model.x4 = Var(within=NonNegativeReals)    # x4 >= 0    (Cargadores de móvil)\n",
    "model.x5 = Var(within=NonNegativeReals)    # x5 >= 0    (Cámaras web)\n",
    "model.x6 = Var(within=NonNegativeReals)    # x6 >= 0    (Auriculares)\n",
    "\n",
    "# Definimos la función objetivo\n",
    "\n",
    "model.obj = Objective(expr = 20*model.x1 + 35*model.x2 + 25*model.x3 + 25*model.x4 + 50*model.x5 + 35*model.x6, sense=maximize)\n",
    "\n",
    "# Definimos las restricciones\n",
    "\n",
    "model.con1 = Constraint(expr = model.x1 + model.x2 + model.x3 + model.x4 + model.x5 + model.x6 <= 1000)\n",
    "model.con2 = Constraint(expr = model.x1 + model.x2 + model.x6 <= 300)\n",
    "model.con3 = Constraint(expr = model.x3 + model.x4 <= 350)\n",
    "model.con4 = Constraint(expr = model.x2 <= 200)\n",
    "model.con5 = Constraint(expr = model.x1 >= 50)\n",
    "model.con6 = Constraint(expr = model.x5 <= 100)\n",
    "\n",
    "# Resolvemos el problema\n",
    "\n",
    "solver = SolverFactory('glpk')\n",
    "solver.solve(model)\n",
    "\n",
    "# Imprimimos los resultados\n",
    "\n",
    "print(\"\\nResultados: \")\n",
    "print(f\"Ratones inalámbricos: {model.x1()} unidades\")\n",
    "print(f\"Teclados: {model.x2()} unidades\")\n",
    "print(f\"Altavoces: {model.x3()} unidades\")\n",
    "print(f\"Cargadores de móvil: {model.x4()} unidades\")\n",
    "print(f\"Cámaras web: {model.x5()} unidades\")\n",
    "print(f\"Auriculares: {model.x6()} unidades\")\n",
    "print(f\"Beneficio máximo: {model.obj()} €\")\n",
    "print(\"\\n\")\n",
    "\n",
    "\n"
   ]
  }
 ],
 "metadata": {
  "kernelspec": {
   "display_name": "base",
   "language": "python",
   "name": "python3"
  },
  "language_info": {
   "codemirror_mode": {
    "name": "ipython",
    "version": 3
   },
   "file_extension": ".py",
   "mimetype": "text/x-python",
   "name": "python",
   "nbconvert_exporter": "python",
   "pygments_lexer": "ipython3",
   "version": "3.9.13"
  }
 },
 "nbformat": 4,
 "nbformat_minor": 2
}
